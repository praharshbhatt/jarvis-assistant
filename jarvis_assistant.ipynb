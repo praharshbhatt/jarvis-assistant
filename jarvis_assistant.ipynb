{
  "cells": [
    {
      "cell_type": "code",
      "execution_count": null,
      "metadata": {
        "colab": {
          "base_uri": "https://localhost:8080/"
        },
        "id": "9Xybnn3-okIH",
        "outputId": "4d3c602a-c114-4a7b-f3dd-4e9ce058bb32"
      },
      "outputs": [],
      "source": [
        "!git clone https://github.com/praharshbhatt/jarvis-assistant.git\n",
        "!mv jarvis-assistant/* .\n",
        "!rm -rf jarvis-assistant"
      ]
    },
    {
      "cell_type": "code",
      "execution_count": null,
      "metadata": {
        "colab": {
          "base_uri": "https://localhost:8080/"
        },
        "id": "RvlYkCQ9vFiy",
        "outputId": "5b1dc23f-c185-46cd-be5f-cf555e224dfe"
      },
      "outputs": [],
      "source": [
        "# !pip install -r requirements.txt\n",
        "!export CMAKE_ARGS=\"-DLLAMA_CUBLAS=on\"\n",
        "!pip install streamlit\n",
        "!pip install transformers\n",
        "!pip install langchain\n",
        "!pip install transformers pyttsx3\n",
        "!pip install transformers sentence-transformers\n",
        "!pip install transformers localtunnel\n",
        "!pip install llama_index\n",
        "!pip install llama-cpp-python"
      ]
    },
    {
      "cell_type": "markdown",
      "metadata": {
        "id": "waCfwniZOow8"
      },
      "source": [
        "## Run the Streamlit app in the background\n"
      ]
    },
    {
      "cell_type": "code",
      "execution_count": null,
      "metadata": {
        "colab": {
          "base_uri": "https://localhost:8080/"
        },
        "id": "Zv912rRAN0fs",
        "outputId": "6805c9b5-968a-4724-e075-2b657fadf12b"
      },
      "outputs": [],
      "source": [
        "!streamlit run main.py &>logs.txt &\n",
        "!cat logs.txt\n",
        "\n",
        "# Read and print the External URL from the logs file\n",
        "with open('logs.txt') as f:\n",
        "  lines = f.readlines()\n",
        "  for line in lines:\n",
        "    if 'External URL:' in line:\n",
        "      print(line)\n",
        "\n",
        "# Expose the port 8501\n",
        "!npx localtunnel --port 8501"
      ]
    }
  ],
  "metadata": {
    "accelerator": "GPU",
    "colab": {
      "gpuType": "A100",
      "machine_shape": "hm",
      "provenance": []
    },
    "kernelspec": {
      "display_name": "Python 3",
      "name": "python3"
    }
  },
  "nbformat": 4,
  "nbformat_minor": 0
}
