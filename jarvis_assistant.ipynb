{
  "cells": [
    {
      "cell_type": "code",
      "execution_count": null,
      "metadata": {
        "colab": {
          "background_save": true
        },
        "id": "RvlYkCQ9vFiy",
        "outputId": "ccbccf0f-4725-4105-fa86-c5d8fa16b8a4"
      },
      "outputs": [],
      "source": [
        "!python -m venv venv\n",
        "!source venv/bin/activate\n",
        "!pip install -r requirements.txt\n",
        "!pip install streamlit transformers llama_index langchain pyttsx3 sentence-transformers localtunnel streamlit\n",
        "!export CMAKE_ARGS=\"-DLLAMA_CUBLAS=on\"\n",
        "!pip install llama-cpp-python"
      ]
    },
    {
      "cell_type": "markdown",
      "metadata": {
        "id": "waCfwniZOow8"
      },
      "source": [
        "## Run the Streamlit app in the background\n"
      ]
    },
    {
      "cell_type": "code",
      "execution_count": null,
      "metadata": {
        "colab": {
          "base_uri": "https://localhost:8080/"
        },
        "id": "Zv912rRAN0fs",
        "outputId": "2d3fe625-8779-4be0-afb2-22e854fe1903"
      },
      "outputs": [],
      "source": [
        "!streamlit run main.py &>logs.txt &\n",
        "!cat logs.txt\n",
        "\n",
        "# Read and print the External URL from the logs file\n",
        "with open('logs.txt') as f:\n",
        "  lines = f.readlines()\n",
        "  for line in lines:\n",
        "    if 'External URL:' in line:\n",
        "      print(line)\n",
        "\n",
        "# Expose the port 8501\n",
        "!npx localtunnel --port 8501"
      ]
    }
  ],
  "metadata": {
    "accelerator": "GPU",
    "colab": {
      "provenance": []
    },
    "kernelspec": {
      "display_name": "Python 3",
      "name": "python3"
    }
  },
  "nbformat": 4,
  "nbformat_minor": 0
}
